{
 "cells": [
  {
   "cell_type": "markdown",
   "id": "3972626d-d92d-4067-bef5-6b2d6780fba7",
   "metadata": {},
   "source": [
    "## Generación de numeros aleatios mediante funciones"
   ]
  },
  {
   "cell_type": "code",
   "execution_count": 185,
   "id": "2b6fcbb3-fb98-4c3f-ab86-76824bc37e01",
   "metadata": {},
   "outputs": [],
   "source": [
    "import numpy as np\n",
    "import pandas as pd"
   ]
  },
  {
   "cell_type": "code",
   "execution_count": 187,
   "id": "d3ff6f7b-0979-4ee1-ba31-7bfcf987e04b",
   "metadata": {},
   "outputs": [],
   "source": [
    "def LCG(a, x, c, m):\n",
    "    return np.mod( (a*x + c) , m )"
   ]
  },
  {
   "cell_type": "code",
   "execution_count": 259,
   "id": "07ac9846-e580-4ade-a334-565d11d4af96",
   "metadata": {},
   "outputs": [],
   "source": [
    "a = 1664525\n",
    "c = 1013904223\n",
    "m = 2**32 \n",
    "\n",
    "#a = 4\n",
    "#c = 43\n",
    "#m = 29\n",
    "x = 30\n",
    "\n",
    "\n",
    "Ax = []\n",
    "for i in range(1000):\n",
    "    x = LCG(a, x, c, m)\n",
    "    Ax.append(x)\n"
   ]
  },
  {
   "cell_type": "code",
   "execution_count": 261,
   "id": "53b4353d-36ae-4f8b-998f-a10fd24ca0d3",
   "metadata": {},
   "outputs": [],
   "source": [
    "Begin  = Ax[0]"
   ]
  },
  {
   "cell_type": "code",
   "execution_count": 263,
   "id": "c4f67f47-d298-4d5f-9aaa-9c9a830b73c7",
   "metadata": {},
   "outputs": [
    {
     "data": {
      "text/plain": [
       "1063839973"
      ]
     },
     "execution_count": 263,
     "metadata": {},
     "output_type": "execute_result"
    }
   ],
   "source": [
    "Begin"
   ]
  },
  {
   "cell_type": "code",
   "execution_count": 265,
   "id": "a7f61069-939b-4e44-8f3e-7efe95885498",
   "metadata": {},
   "outputs": [],
   "source": [
    "df = pd.DataFrame({ 'r': Ax })"
   ]
  },
  {
   "cell_type": "code",
   "execution_count": 267,
   "id": "216964fb-f610-4bf3-9d9d-522a74a83924",
   "metadata": {},
   "outputs": [],
   "source": [
    "df['StartNew'] = False"
   ]
  },
  {
   "cell_type": "code",
   "execution_count": 269,
   "id": "a1b0462a-573d-4d6c-a01b-85ee5623e85f",
   "metadata": {},
   "outputs": [],
   "source": [
    "df.loc[ df['r'] == Begin , 'StartNew' ] = True"
   ]
  },
  {
   "cell_type": "code",
   "execution_count": 271,
   "id": "91f82e77-3335-4f12-8b22-b48892297a88",
   "metadata": {},
   "outputs": [
    {
     "data": {
      "text/plain": [
       "1"
      ]
     },
     "execution_count": 271,
     "metadata": {},
     "output_type": "execute_result"
    }
   ],
   "source": [
    "np.sum(df['StartNew'])"
   ]
  },
  {
   "cell_type": "code",
   "execution_count": 273,
   "id": "7316ae90-c8ea-409d-ae41-532bf8766929",
   "metadata": {},
   "outputs": [
    {
     "data": {
      "text/html": [
       "<div>\n",
       "<style scoped>\n",
       "    .dataframe tbody tr th:only-of-type {\n",
       "        vertical-align: middle;\n",
       "    }\n",
       "\n",
       "    .dataframe tbody tr th {\n",
       "        vertical-align: top;\n",
       "    }\n",
       "\n",
       "    .dataframe thead th {\n",
       "        text-align: right;\n",
       "    }\n",
       "</style>\n",
       "<table border=\"1\" class=\"dataframe\">\n",
       "  <thead>\n",
       "    <tr style=\"text-align: right;\">\n",
       "      <th></th>\n",
       "      <th>r</th>\n",
       "      <th>StartNew</th>\n",
       "    </tr>\n",
       "  </thead>\n",
       "  <tbody>\n",
       "    <tr>\n",
       "      <th>0</th>\n",
       "      <td>1063839973</td>\n",
       "      <td>True</td>\n",
       "    </tr>\n",
       "    <tr>\n",
       "      <th>1</th>\n",
       "      <td>4293592320</td>\n",
       "      <td>False</td>\n",
       "    </tr>\n",
       "    <tr>\n",
       "      <th>2</th>\n",
       "      <td>1549546591</td>\n",
       "      <td>False</td>\n",
       "    </tr>\n",
       "    <tr>\n",
       "      <th>3</th>\n",
       "      <td>3343021618</td>\n",
       "      <td>False</td>\n",
       "    </tr>\n",
       "    <tr>\n",
       "      <th>4</th>\n",
       "      <td>1623777257</td>\n",
       "      <td>False</td>\n",
       "    </tr>\n",
       "    <tr>\n",
       "      <th>...</th>\n",
       "      <td>...</td>\n",
       "      <td>...</td>\n",
       "    </tr>\n",
       "    <tr>\n",
       "      <th>995</th>\n",
       "      <td>9860242</td>\n",
       "      <td>False</td>\n",
       "    </tr>\n",
       "    <tr>\n",
       "      <th>996</th>\n",
       "      <td>2563181257</td>\n",
       "      <td>False</td>\n",
       "    </tr>\n",
       "    <tr>\n",
       "      <th>997</th>\n",
       "      <td>1517786516</td>\n",
       "      <td>False</td>\n",
       "    </tr>\n",
       "    <tr>\n",
       "      <th>998</th>\n",
       "      <td>361661411</td>\n",
       "      <td>False</td>\n",
       "    </tr>\n",
       "    <tr>\n",
       "      <th>999</th>\n",
       "      <td>4267907046</td>\n",
       "      <td>False</td>\n",
       "    </tr>\n",
       "  </tbody>\n",
       "</table>\n",
       "<p>1000 rows × 2 columns</p>\n",
       "</div>"
      ],
      "text/plain": [
       "              r  StartNew\n",
       "0    1063839973      True\n",
       "1    4293592320     False\n",
       "2    1549546591     False\n",
       "3    3343021618     False\n",
       "4    1623777257     False\n",
       "..          ...       ...\n",
       "995     9860242     False\n",
       "996  2563181257     False\n",
       "997  1517786516     False\n",
       "998   361661411     False\n",
       "999  4267907046     False\n",
       "\n",
       "[1000 rows x 2 columns]"
      ]
     },
     "execution_count": 273,
     "metadata": {},
     "output_type": "execute_result"
    }
   ],
   "source": [
    "df"
   ]
  },
  {
   "cell_type": "code",
   "execution_count": 275,
   "id": "e502556b-d038-4a59-81b8-707dfa840daf",
   "metadata": {},
   "outputs": [
    {
     "data": {
      "text/plain": [
       "array([[<Axes: title={'center': 'r'}>]], dtype=object)"
      ]
     },
     "execution_count": 275,
     "metadata": {},
     "output_type": "execute_result"
    },
    {
     "data": {
      "image/png": "[encoded data removed]",
      "text/plain": [
       "<Figure size 640x480 with 1 Axes>"
      ]
     },
     "metadata": {},
     "output_type": "display_data"
    }
   ],
   "source": [
    "df.hist()"
   ]
  },
  {
   "cell_type": "markdown",
   "id": "88ee8a0b-0b75-41f2-95b2-fd0c624e06a2",
   "metadata": {},
   "source": [
    "## Random con python"
   ]
  },
  {
   "cell_type": "code",
   "execution_count": 278,
   "id": "d822d29f-8348-4a92-96c8-53fceec99c4f",
   "metadata": {},
   "outputs": [],
   "source": [
    "import random"
   ]
  },
  {
   "cell_type": "code",
   "execution_count": 300,
   "id": "bbf8e8a6-6134-4d69-8414-37434491a4cb",
   "metadata": {},
   "outputs": [
    {
     "data": {
      "text/plain": [
       "0.47898839095618095"
      ]
     },
     "execution_count": 300,
     "metadata": {},
     "output_type": "execute_result"
    }
   ],
   "source": [
    "random.random()"
   ]
  },
  {
   "cell_type": "code",
   "execution_count": 336,
   "id": "cf6c4e21-9551-4689-9f38-796860a9d84e",
   "metadata": {},
   "outputs": [
    {
     "data": {
      "text/plain": [
       "array([[<Axes: title={'center': 'r'}>]], dtype=object)"
      ]
     },
     "execution_count": 336,
     "metadata": {},
     "output_type": "execute_result"
    },
    {
     "data": {
      "image/png": "[encoded data removed]",
      "text/plain": [
       "<Figure size 640x480 with 1 Axes>"
      ]
     },
     "metadata": {},
     "output_type": "display_data"
    }
   ],
   "source": [
    "Ax = []\n",
    "for i in range(100):\n",
    "    Ax.append( random.random() )\n",
    "\n",
    "pd.DataFrame({\n",
    "    'r': Ax\n",
    "}).hist()"
   ]
  },
  {
   "cell_type": "code",
   "execution_count": 308,
   "id": "861d3c93-7e60-459e-aa7a-1921f34ba8e4",
   "metadata": {},
   "outputs": [
    {
     "name": "stdout",
     "output_type": "stream",
     "text": [
      "5\n"
     ]
    }
   ],
   "source": [
    "num = random.randint(1, 10)\n",
    "print(num)"
   ]
  },
  {
   "cell_type": "code",
   "execution_count": 346,
   "id": "a34d99f2-8e87-4497-9800-47138ecc597c",
   "metadata": {},
   "outputs": [
    {
     "data": {
      "text/plain": [
       "3.4935129665626667"
      ]
     },
     "execution_count": 346,
     "metadata": {},
     "output_type": "execute_result"
    }
   ],
   "source": [
    "random.uniform(1.5, 10.5)"
   ]
  },
  {
   "cell_type": "code",
   "execution_count": 365,
   "id": "77fd454a-ab9b-4fd5-ba1c-dadd48663041",
   "metadata": {},
   "outputs": [
    {
     "data": {
      "text/plain": [
       "array([[<Axes: title={'center': 'r'}>]], dtype=object)"
      ]
     },
     "execution_count": 365,
     "metadata": {},
     "output_type": "execute_result"
    },
    {
     "data": {
      "image/png": "[encoded data removed]",
      "text/plain": [
       "<Figure size 640x480 with 1 Axes>"
      ]
     },
     "metadata": {},
     "output_type": "display_data"
    }
   ],
   "source": [
    "Ax = []\n",
    "for i in range(100):\n",
    "    Ax.append( random.uniform(1.5, 10.5) )\n",
    "\n",
    "pd.DataFrame({\n",
    "    'r': Ax\n",
    "}).hist()"
   ]
  },
  {
   "cell_type": "code",
   "execution_count": 437,
   "id": "9da826f2-7b43-42c4-b948-c23965d46f76",
   "metadata": {},
   "outputs": [
    {
     "data": {
      "text/plain": [
       "38"
      ]
     },
     "execution_count": 437,
     "metadata": {},
     "output_type": "execute_result"
    }
   ],
   "source": [
    "random.randrange(0, 101, 2)"
   ]
  },
  {
   "cell_type": "code",
   "execution_count": 489,
   "id": "5a348a4b-ba69-4ef9-9f2d-79fce16001df",
   "metadata": {},
   "outputs": [
    {
     "name": "stdout",
     "output_type": "stream",
     "text": [
      "banana\n"
     ]
    }
   ],
   "source": [
    "items = ['apple', 'banana', 'cherry']\n",
    "item = random.choice(items)\n",
    "print(item)"
   ]
  },
  {
   "cell_type": "code",
   "execution_count": 473,
   "id": "1a98f992-c8c3-4e8e-822f-9a8581ebe9f8",
   "metadata": {},
   "outputs": [
    {
     "name": "stdout",
     "output_type": "stream",
     "text": [
      "['apple', 'banana', 'cherry']\n"
     ]
    }
   ],
   "source": [
    "items = ['apple', 'banana', 'cherry']\n",
    "sample = random.sample(items, 3)\n",
    "print(sample)"
   ]
  },
  {
   "cell_type": "code",
   "execution_count": 483,
   "id": "26b6697a-1738-48fc-9291-9f7ad54b6f5a",
   "metadata": {},
   "outputs": [
    {
     "name": "stdout",
     "output_type": "stream",
     "text": [
      "[45, 2, 3]\n"
     ]
    }
   ],
   "source": [
    "items = [2,3,3,4,5,6,45,7,8,1,2,3,3,3]\n",
    "sample = random.sample(items, 3)\n",
    "print(sample)"
   ]
  },
  {
   "cell_type": "code",
   "execution_count": 455,
   "id": "ed55ee24-6dab-4287-b4dc-e2cf67002abf",
   "metadata": {},
   "outputs": [
    {
     "name": "stdout",
     "output_type": "stream",
     "text": [
      "['banana', 'apple', 'apple']\n"
     ]
    }
   ],
   "source": [
    "items = ['apple', 'banana', 'cherry']\n",
    "choices = random.choices(items, k=3)\n",
    "print(choices)"
   ]
  },
  {
   "cell_type": "code",
   "execution_count": 497,
   "id": "0d14b665-abe8-4695-b4a2-70ad06824e3f",
   "metadata": {},
   "outputs": [],
   "source": [
    "### Altera el objeto, por lo cual es un pase por referencia\n",
    "\n",
    "random.shuffle(items)\n",
    "items"
   ]
  },
  {
   "cell_type": "code",
   "execution_count": 515,
   "id": "01488074-821d-479a-814f-9c750edeb07e",
   "metadata": {},
   "outputs": [
    {
     "data": {
      "text/plain": [
       "0.2796477964064351"
      ]
     },
     "execution_count": 515,
     "metadata": {},
     "output_type": "execute_result"
    }
   ],
   "source": [
    "random.expovariate(1.5)"
   ]
  },
  {
   "cell_type": "code",
   "execution_count": 575,
   "id": "b9358770-1ec9-446c-82ea-2a4b4a87cb5d",
   "metadata": {},
   "outputs": [
    {
     "data": {
      "text/plain": [
       "1.720166719737061"
      ]
     },
     "execution_count": 575,
     "metadata": {},
     "output_type": "execute_result"
    }
   ],
   "source": [
    "random.normalvariate(0, 1)"
   ]
  },
  {
   "cell_type": "code",
   "execution_count": 607,
   "id": "a4583290-2630-47f5-b710-f35cac38afee",
   "metadata": {},
   "outputs": [
    {
     "data": {
      "text/plain": [
       "1.0855439288132689"
      ]
     },
     "execution_count": 607,
     "metadata": {},
     "output_type": "execute_result"
    }
   ],
   "source": [
    "random.gammavariate(2, 1.5)"
   ]
  },
  {
   "cell_type": "code",
   "execution_count": 605,
   "id": "90077759-0cd9-4190-b609-87678adac90e",
   "metadata": {},
   "outputs": [
    {
     "data": {
      "text/plain": [
       "<Axes: >"
      ]
     },
     "execution_count": 605,
     "metadata": {},
     "output_type": "execute_result"
    },
    {
     "data": {
      "image/png": "[encoded data removed]",
      "text/plain": [
       "<Figure size 640x480 with 1 Axes>"
      ]
     },
     "metadata": {},
     "output_type": "display_data"
    }
   ],
   "source": [
    "Ax = []\n",
    "for i in range(10000):\n",
    "    Ax.append( random.expovariate( 1.5) )\n",
    "\n",
    "pd.DataFrame({\n",
    "    'r': Ax\n",
    "}).boxplot()"
   ]
  },
  {
   "cell_type": "code",
   "execution_count": null,
   "id": "9252bb69-024b-49df-80ae-fa3514770ea8",
   "metadata": {},
   "outputs": [],
   "source": []
  }
 ],
 "metadata": {
  "kernelspec": {
   "display_name": "Python 3 (ipykernel)",
   "language": "python",
   "name": "python3"
  },
  "language_info": {
   "codemirror_mode": {
    "name": "ipython",
    "version": 3
   },
   "file_extension": ".py",
   "mimetype": "text/x-python",
   "name": "python",
   "nbconvert_exporter": "python",
   "pygments_lexer": "ipython3",
   "version": "3.11.5"
  }
 },
 "nbformat": 4,
 "nbformat_minor": 5
}
